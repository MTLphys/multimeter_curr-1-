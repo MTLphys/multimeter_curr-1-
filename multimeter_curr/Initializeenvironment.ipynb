{
 "cells": [
  {
   "cell_type": "code",
   "execution_count": 1,
   "metadata": {},
   "outputs": [
    {
     "name": "stdout",
     "output_type": "stream",
     "text": [
      "Collecting dearpygui\n",
      "  Downloading dearpygui-1.10.1-cp310-cp310-manylinux1_x86_64.whl.metadata (12 kB)\n",
      "Downloading dearpygui-1.10.1-cp310-cp310-manylinux1_x86_64.whl (2.8 MB)\n",
      "\u001b[2K   \u001b[90m━━━━━━━━━━━━━━━━━━━━━━━━━━━━━━━━━━━━━━━━\u001b[0m \u001b[32m2.8/2.8 MB\u001b[0m \u001b[31m22.4 MB/s\u001b[0m eta \u001b[36m0:00:00\u001b[0m00:01\u001b[0m00:01\u001b[0m\n",
      "\u001b[?25hInstalling collected packages: dearpygui\n",
      "Successfully installed dearpygui-1.10.1\n",
      "Note: you may need to restart the kernel to use updated packages.\n"
     ]
    }
   ],
   "source": [
    "#pip install dearpygui "
   ]
  },
  {
   "cell_type": "code",
   "execution_count": 2,
   "metadata": {},
   "outputs": [
    {
     "name": "stdout",
     "output_type": "stream",
     "text": [
      "Collecting numpy\n",
      "  Downloading numpy-1.26.1-cp310-cp310-manylinux_2_17_x86_64.manylinux2014_x86_64.whl.metadata (61 kB)\n",
      "\u001b[2K     \u001b[90m━━━━━━━━━━━━━━━━━━━━━━━━━━━━━━━━━━━━━━━━\u001b[0m \u001b[32m61.2/61.2 kB\u001b[0m \u001b[31m1.4 MB/s\u001b[0m eta \u001b[36m0:00:00\u001b[0ma \u001b[36m0:00:01\u001b[0m\n",
      "\u001b[?25hDownloading numpy-1.26.1-cp310-cp310-manylinux_2_17_x86_64.manylinux2014_x86_64.whl (18.2 MB)\n",
      "\u001b[2K   \u001b[90m━━━━━━━━━━━━━━━━━━━━━━━━━━━━━━━━━━━━━━━━\u001b[0m \u001b[32m18.2/18.2 MB\u001b[0m \u001b[31m39.1 MB/s\u001b[0m eta \u001b[36m0:00:00\u001b[0m00:01\u001b[0m00:01\u001b[0m\n",
      "\u001b[?25hInstalling collected packages: numpy\n",
      "Successfully installed numpy-1.26.1\n",
      "Note: you may need to restart the kernel to use updated packages.\n"
     ]
    }
   ],
   "source": [
    "#pip install numpy "
   ]
  },
  {
   "cell_type": "code",
   "execution_count": 8,
   "metadata": {},
   "outputs": [
    {
     "name": "stdout",
     "output_type": "stream",
     "text": [
      "Collecting matplotlib\n",
      "  Downloading matplotlib-3.8.1-cp310-cp310-manylinux_2_17_x86_64.manylinux2014_x86_64.whl.metadata (5.8 kB)\n",
      "Collecting contourpy>=1.0.1 (from matplotlib)\n",
      "  Downloading contourpy-1.2.0-cp310-cp310-manylinux_2_17_x86_64.manylinux2014_x86_64.whl.metadata (5.8 kB)\n",
      "Collecting cycler>=0.10 (from matplotlib)\n",
      "  Downloading cycler-0.12.1-py3-none-any.whl.metadata (3.8 kB)\n",
      "Collecting fonttools>=4.22.0 (from matplotlib)\n",
      "  Downloading fonttools-4.44.0-cp310-cp310-manylinux_2_17_x86_64.manylinux2014_x86_64.whl.metadata (153 kB)\n",
      "\u001b[2K     \u001b[90m━━━━━━━━━━━━━━━━━━━━━━━━━━━━━━━━━━━━━━━\u001b[0m \u001b[32m153.6/153.6 kB\u001b[0m \u001b[31m4.5 MB/s\u001b[0m eta \u001b[36m0:00:00\u001b[0m\n",
      "\u001b[?25hCollecting kiwisolver>=1.3.1 (from matplotlib)\n",
      "  Downloading kiwisolver-1.4.5-cp310-cp310-manylinux_2_12_x86_64.manylinux2010_x86_64.whl.metadata (6.4 kB)\n",
      "Requirement already satisfied: numpy<2,>=1.21 in ./.venv/lib/python3.10/site-packages (from matplotlib) (1.26.1)\n",
      "Requirement already satisfied: packaging>=20.0 in ./.venv/lib/python3.10/site-packages (from matplotlib) (23.2)\n",
      "Collecting pillow>=8 (from matplotlib)\n",
      "  Downloading Pillow-10.1.0-cp310-cp310-manylinux_2_28_x86_64.whl.metadata (9.5 kB)\n",
      "Collecting pyparsing>=2.3.1 (from matplotlib)\n",
      "  Downloading pyparsing-3.1.1-py3-none-any.whl.metadata (5.1 kB)\n",
      "Requirement already satisfied: python-dateutil>=2.7 in ./.venv/lib/python3.10/site-packages (from matplotlib) (2.8.2)\n",
      "Requirement already satisfied: six>=1.5 in ./.venv/lib/python3.10/site-packages (from python-dateutil>=2.7->matplotlib) (1.16.0)\n",
      "Downloading matplotlib-3.8.1-cp310-cp310-manylinux_2_17_x86_64.manylinux2014_x86_64.whl (11.6 MB)\n",
      "\u001b[2K   \u001b[90m━━━━━━━━━━━━━━━━━━━━━━━━━━━━━━━━━━━━━━━━\u001b[0m \u001b[32m11.6/11.6 MB\u001b[0m \u001b[31m44.0 MB/s\u001b[0m eta \u001b[36m0:00:00\u001b[0m00:01\u001b[0m00:01\u001b[0m\n",
      "\u001b[?25hDownloading contourpy-1.2.0-cp310-cp310-manylinux_2_17_x86_64.manylinux2014_x86_64.whl (310 kB)\n",
      "\u001b[2K   \u001b[90m━━━━━━━━━━━━━━━━━━━━━━━━━━━━━━━━━━━━━━━━\u001b[0m \u001b[32m310.7/310.7 kB\u001b[0m \u001b[31m17.6 MB/s\u001b[0m eta \u001b[36m0:00:00\u001b[0m\n",
      "\u001b[?25hDownloading cycler-0.12.1-py3-none-any.whl (8.3 kB)\n",
      "Downloading fonttools-4.44.0-cp310-cp310-manylinux_2_17_x86_64.manylinux2014_x86_64.whl (4.5 MB)\n",
      "\u001b[2K   \u001b[90m━━━━━━━━━━━━━━━━━━━━━━━━━━━━━━━━━━━━━━━━\u001b[0m \u001b[32m4.5/4.5 MB\u001b[0m \u001b[31m41.8 MB/s\u001b[0m eta \u001b[36m0:00:00\u001b[0m00:01\u001b[0m00:01\u001b[0m\n",
      "\u001b[?25hDownloading kiwisolver-1.4.5-cp310-cp310-manylinux_2_12_x86_64.manylinux2010_x86_64.whl (1.6 MB)\n",
      "\u001b[2K   \u001b[90m━━━━━━━━━━━━━━━━━━━━━━━━━━━━━━━━━━━━━━━━\u001b[0m \u001b[32m1.6/1.6 MB\u001b[0m \u001b[31m20.1 MB/s\u001b[0m eta \u001b[36m0:00:00\u001b[0m00:01\u001b[0m00:01\u001b[0m\n",
      "\u001b[?25hDownloading Pillow-10.1.0-cp310-cp310-manylinux_2_28_x86_64.whl (3.6 MB)\n",
      "\u001b[2K   \u001b[90m━━━━━━━━━━━━━━━━━━━━━━━━━━━━━━━━━━━━━━━━\u001b[0m \u001b[32m3.6/3.6 MB\u001b[0m \u001b[31m25.2 MB/s\u001b[0m eta \u001b[36m0:00:00\u001b[0m00:01\u001b[0m00:01\u001b[0m\n",
      "\u001b[?25hDownloading pyparsing-3.1.1-py3-none-any.whl (103 kB)\n",
      "\u001b[2K   \u001b[90m━━━━━━━━━━━━━━━━━━━━━━━━━━━━━━━━━━━━━━━━\u001b[0m \u001b[32m103.1/103.1 kB\u001b[0m \u001b[31m6.5 MB/s\u001b[0m eta \u001b[36m0:00:00\u001b[0m\n",
      "\u001b[?25hInstalling collected packages: pyparsing, pillow, kiwisolver, fonttools, cycler, contourpy, matplotlib\n",
      "Successfully installed contourpy-1.2.0 cycler-0.12.1 fonttools-4.44.0 kiwisolver-1.4.5 matplotlib-3.8.1 pillow-10.1.0 pyparsing-3.1.1\n",
      "Note: you may need to restart the kernel to use updated packages.\n"
     ]
    }
   ],
   "source": [
    "#pip install matplotlib"
   ]
  },
  {
   "cell_type": "code",
   "execution_count": 3,
   "metadata": {},
   "outputs": [
    {
     "name": "stdout",
     "output_type": "stream",
     "text": [
      "Collecting zhinst\n",
      "  Downloading zhinst-23.10.1-py3-none-any.whl.metadata (1.9 kB)\n",
      "Collecting zhinst.core==23.10.49450 (from zhinst)\n",
      "  Downloading zhinst_core-23.10.49450-cp310-cp310-manylinux1_x86_64.whl.metadata (2.1 kB)\n",
      "Collecting zhinst.utils==0.3.4 (from zhinst)\n",
      "  Downloading zhinst_utils-0.3.4-py3-none-any.whl.metadata (2.2 kB)\n",
      "Collecting zhinst.toolkit==0.6.2 (from zhinst)\n",
      "  Downloading zhinst_toolkit-0.6.2-py3-none-any.whl.metadata (4.2 kB)\n",
      "Requirement already satisfied: numpy>=1.21 in ./.venv/lib/python3.10/site-packages (from zhinst.core==23.10.49450->zhinst) (1.26.1)\n",
      "Collecting typing-extensions (from zhinst.core==23.10.49450->zhinst)\n",
      "  Downloading typing_extensions-4.8.0-py3-none-any.whl.metadata (3.0 kB)\n",
      "Collecting jsonschema>=3.2.0 (from zhinst.toolkit==0.6.2->zhinst)\n",
      "  Downloading jsonschema-4.19.2-py3-none-any.whl.metadata (7.9 kB)\n",
      "Collecting jsonref>=0.2 (from zhinst.toolkit==0.6.2->zhinst)\n",
      "  Downloading jsonref-1.1.0-py3-none-any.whl (9.4 kB)\n",
      "Collecting pyelftools>=0.29 (from zhinst.toolkit==0.6.2->zhinst)\n",
      "  Downloading pyelftools-0.30-py2.py3-none-any.whl.metadata (381 bytes)\n",
      "Collecting attrs>=22.2.0 (from jsonschema>=3.2.0->zhinst.toolkit==0.6.2->zhinst)\n",
      "  Downloading attrs-23.1.0-py3-none-any.whl (61 kB)\n",
      "\u001b[2K     \u001b[90m━━━━━━━━━━━━━━━━━━━━━━━━━━━━━━━━━━━━━━━━\u001b[0m \u001b[32m61.2/61.2 kB\u001b[0m \u001b[31m2.4 MB/s\u001b[0m eta \u001b[36m0:00:00\u001b[0m\n",
      "\u001b[?25hCollecting jsonschema-specifications>=2023.03.6 (from jsonschema>=3.2.0->zhinst.toolkit==0.6.2->zhinst)\n",
      "  Downloading jsonschema_specifications-2023.7.1-py3-none-any.whl.metadata (2.8 kB)\n",
      "Collecting referencing>=0.28.4 (from jsonschema>=3.2.0->zhinst.toolkit==0.6.2->zhinst)\n",
      "  Downloading referencing-0.30.2-py3-none-any.whl.metadata (2.6 kB)\n",
      "Collecting rpds-py>=0.7.1 (from jsonschema>=3.2.0->zhinst.toolkit==0.6.2->zhinst)\n",
      "  Downloading rpds_py-0.12.0-cp310-cp310-manylinux_2_17_x86_64.manylinux2014_x86_64.whl.metadata (3.7 kB)\n",
      "Downloading zhinst-23.10.1-py3-none-any.whl (2.5 kB)\n",
      "Downloading zhinst_core-23.10.49450-cp310-cp310-manylinux1_x86_64.whl (14.3 MB)\n",
      "\u001b[2K   \u001b[90m━━━━━━━━━━━━━━━━━━━━━━━━━━━━━━━━━━━━━━━━\u001b[0m \u001b[32m14.3/14.3 MB\u001b[0m \u001b[31m10.4 MB/s\u001b[0m eta \u001b[36m0:00:00\u001b[0m00:01\u001b[0m00:01\u001b[0m\n",
      "\u001b[?25hDownloading zhinst_toolkit-0.6.2-py3-none-any.whl (110 kB)\n",
      "\u001b[2K   \u001b[90m━━━━━━━━━━━━━━━━━━━━━━━━━━━━━━━━━━━━━━━━\u001b[0m \u001b[32m110.4/110.4 kB\u001b[0m \u001b[31m6.7 MB/s\u001b[0m eta \u001b[36m0:00:00\u001b[0m\n",
      "\u001b[?25hDownloading zhinst_utils-0.3.4-py3-none-any.whl (54 kB)\n",
      "\u001b[2K   \u001b[90m━━━━━━━━━━━━━━━━━━━━━━━━━━━━━━━━━━━━━━━━\u001b[0m \u001b[32m54.7/54.7 kB\u001b[0m \u001b[31m3.0 MB/s\u001b[0m eta \u001b[36m0:00:00\u001b[0m\n",
      "\u001b[?25hDownloading jsonschema-4.19.2-py3-none-any.whl (83 kB)\n",
      "\u001b[2K   \u001b[90m━━━━━━━━━━━━━━━━━━━━━━━━━━━━━━━━━━━━━━━━\u001b[0m \u001b[32m83.6/83.6 kB\u001b[0m \u001b[31m4.9 MB/s\u001b[0m eta \u001b[36m0:00:00\u001b[0m\n",
      "\u001b[?25hDownloading pyelftools-0.30-py2.py3-none-any.whl (177 kB)\n",
      "\u001b[2K   \u001b[90m━━━━━━━━━━━━━━━━━━━━━━━━━━━━━━━━━━━━━━━━\u001b[0m \u001b[32m177.6/177.6 kB\u001b[0m \u001b[31m10.8 MB/s\u001b[0m eta \u001b[36m0:00:00\u001b[0m\n",
      "\u001b[?25hDownloading typing_extensions-4.8.0-py3-none-any.whl (31 kB)\n",
      "Downloading jsonschema_specifications-2023.7.1-py3-none-any.whl (17 kB)\n",
      "Downloading referencing-0.30.2-py3-none-any.whl (25 kB)\n",
      "Downloading rpds_py-0.12.0-cp310-cp310-manylinux_2_17_x86_64.manylinux2014_x86_64.whl (1.2 MB)\n",
      "\u001b[2K   \u001b[90m━━━━━━━━━━━━━━━━━━━━━━━━━━━━━━━━━━━━━━━━\u001b[0m \u001b[32m1.2/1.2 MB\u001b[0m \u001b[31m13.2 MB/s\u001b[0m eta \u001b[36m0:00:00\u001b[0m00:01\u001b[0m00:01\u001b[0m\n",
      "\u001b[?25hInstalling collected packages: pyelftools, typing-extensions, rpds-py, jsonref, attrs, zhinst.core, referencing, zhinst.utils, jsonschema-specifications, jsonschema, zhinst.toolkit, zhinst\n",
      "Successfully installed attrs-23.1.0 jsonref-1.1.0 jsonschema-4.19.2 jsonschema-specifications-2023.7.1 pyelftools-0.30 referencing-0.30.2 rpds-py-0.12.0 typing-extensions-4.8.0 zhinst-23.10.1 zhinst.core-23.10.49450 zhinst.toolkit-0.6.2 zhinst.utils-0.3.4\n",
      "Note: you may need to restart the kernel to use updated packages.\n"
     ]
    }
   ],
   "source": [
    "#pip install zhinst"
   ]
  },
  {
   "cell_type": "code",
   "execution_count": 131,
   "metadata": {},
   "outputs": [],
   "source": [
    "from zhinst.toolkit import Session\n",
    "session = Session(\"localhost\",hf2=True)"
   ]
  },
  {
   "cell_type": "code",
   "execution_count": 132,
   "metadata": {},
   "outputs": [
    {
     "data": {
      "text/plain": [
       "4"
      ]
     },
     "execution_count": 132,
     "metadata": {},
     "output_type": "execute_result"
    }
   ],
   "source": [
    "session.debug.level()"
   ]
  },
  {
   "cell_type": "markdown",
   "metadata": {},
   "source": []
  },
  {
   "cell_type": "code",
   "execution_count": 136,
   "metadata": {},
   "outputs": [
    {
     "data": {
      "text/plain": [
       "['dev561']"
      ]
     },
     "execution_count": 136,
     "metadata": {},
     "output_type": "execute_result"
    }
   ],
   "source": [
    "session.devices.connected()"
   ]
  },
  {
   "cell_type": "code",
   "execution_count": 134,
   "metadata": {},
   "outputs": [],
   "source": [
    "device = session.connect_device(\"DEV561\")"
   ]
  },
  {
   "cell_type": "code",
   "execution_count": 135,
   "metadata": {},
   "outputs": [
    {
     "data": {
      "text/plain": [
       "[/dev561/clockbase,\n",
       " /dev561/system,\n",
       " /dev561/features,\n",
       " /dev561/status,\n",
       " /dev561/stats,\n",
       " /dev561/demods,\n",
       " /dev561/oscs,\n",
       " /dev561/mods,\n",
       " /dev561/plls,\n",
       " /dev561/pids,\n",
       " /dev561/sigins,\n",
       " /dev561/sigouts,\n",
       " /dev561/scopes,\n",
       " /dev561/dios,\n",
       " /dev561/auxins,\n",
       " /dev561/auxouts,\n",
       " /dev561/cpus,\n",
       " /dev561/zctrls]"
      ]
     },
     "execution_count": 135,
     "metadata": {},
     "output_type": "execute_result"
    }
   ],
   "source": [
    "list(device.child_nodes())"
   ]
  },
  {
   "cell_type": "code",
   "execution_count": 137,
   "metadata": {},
   "outputs": [
    {
     "data": {
      "text/plain": [
       "1"
      ]
     },
     "execution_count": 137,
     "metadata": {},
     "output_type": "execute_result"
    }
   ],
   "source": [
    "device.demods[0].enable(1)\n",
    "device.demods[0].enable()\n",
    "\n"
   ]
  },
  {
   "cell_type": "code",
   "execution_count": 138,
   "metadata": {},
   "outputs": [],
   "source": [
    "import time\n",
    "device.demods[0].sample.subscribe()\n",
    "time.sleep(1)\n",
    "device.demods[0].sample.unsubscribe()\n",
    "poll_result = session.poll()\n",
    "demod_sample = poll_result[device.demods[0].sample]"
   ]
  },
  {
   "cell_type": "code",
   "execution_count": 139,
   "metadata": {},
   "outputs": [
    {
     "data": {
      "text/plain": [
       "array([0.00584421, 0.00587836, 0.00571597, ..., 0.00528177, 0.00543691,\n",
       "       0.00552911])"
      ]
     },
     "execution_count": 139,
     "metadata": {},
     "output_type": "execute_result"
    }
   ],
   "source": [
    "import numpy as np \n",
    "np.sqrt(demod_sample['x']**2+demod_sample['y']**2)"
   ]
  },
  {
   "cell_type": "code",
   "execution_count": 140,
   "metadata": {},
   "outputs": [
    {
     "data": {
      "image/png": "[encoded data removed]",
      "text/plain": [
       "<Figure size 640x480 with 1 Axes>"
      ]
     },
     "metadata": {},
     "output_type": "display_data"
    }
   ],
   "source": [
    "import matplotlib.pyplot as plt\n",
    "\n",
    "_, axis = plt.subplots(1, 1)\n",
    "axis.plot(np.sqrt(demod_sample['x']**2+demod_sample['y']**2))\n",
    "axis.grid(True)\n",
    "axis.set_title(\"X Data from the polled demod sample\")\n",
    "axis.set_xlabel(\"Sample\")\n",
    "axis.set_ylabel(\"Value\")\n",
    "plt.show()\n",
    "\n"
   ]
  },
  {
   "cell_type": "code",
   "execution_count": 4,
   "metadata": {},
   "outputs": [
    {
     "name": "stdout",
     "output_type": "stream",
     "text": [
      "Collecting pysocket\n",
      "  Downloading pySocket-0.35.tar.gz (1.4 kB)\n",
      "  Installing build dependencies ... \u001b[?25ldone\n",
      "\u001b[?25h  Getting requirements to build wheel ... \u001b[?25ldone\n",
      "\u001b[?25h  Preparing metadata (pyproject.toml) ... \u001b[?25ldone\n",
      "\u001b[?25hBuilding wheels for collected packages: pysocket\n",
      "  Building wheel for pysocket (pyproject.toml) ... \u001b[?25ldone\n",
      "\u001b[?25h  Created wheel for pysocket: filename=pySocket-0.35-py3-none-any.whl size=1873 sha256=86c7815627773dcf14bf0b50a405efb563b611902b666b6aebef96e2ec56e6d2\n",
      "  Stored in directory: /home/matthew/.cache/pip/wheels/f3/7a/05/053e7718a36a81aab39d74f99f3e1eacb93a6e0a54dd06ee6b\n",
      "Successfully built pysocket\n",
      "Installing collected packages: pysocket\n",
      "Successfully installed pysocket-0.35\n",
      "Note: you may need to restart the kernel to use updated packages.\n"
     ]
    }
   ],
   "source": [
    "#pip install pysocket"
   ]
  },
  {
   "cell_type": "code",
   "execution_count": 5,
   "metadata": {},
   "outputs": [
    {
     "name": "stdout",
     "output_type": "stream",
     "text": [
      "Collecting pyserial\n",
      "  Downloading pyserial-3.5-py2.py3-none-any.whl (90 kB)\n",
      "\u001b[2K     \u001b[90m━━━━━━━━━━━━━━━━━━━━━━━━━━━━━━━━━━━━━━━━\u001b[0m \u001b[32m90.6/90.6 kB\u001b[0m \u001b[31m1.2 MB/s\u001b[0m eta \u001b[36m0:00:00\u001b[0ma \u001b[36m0:00:01\u001b[0m\n",
      "\u001b[?25hInstalling collected packages: pyserial\n",
      "Successfully installed pyserial-3.5\n",
      "Note: you may need to restart the kernel to use updated packages.\n"
     ]
    }
   ],
   "source": [
    "#pip install pyserial"
   ]
  },
  {
   "cell_type": "code",
   "execution_count": 6,
   "metadata": {},
   "outputs": [
    {
     "name": "stdout",
     "output_type": "stream",
     "text": [
      "Collecting pyusb\n",
      "  Downloading pyusb-1.2.1-py3-none-any.whl (58 kB)\n",
      "\u001b[2K     \u001b[90m━━━━━━━━━━━━━━━━━━━━━━━━━━━━━━━━━━━━━━━\u001b[0m \u001b[32m58.4/58.4 kB\u001b[0m \u001b[31m706.5 kB/s\u001b[0m eta \u001b[36m0:00:00\u001b[0ma \u001b[36m0:00:01\u001b[0m\n",
      "\u001b[?25hInstalling collected packages: pyusb\n",
      "Successfully installed pyusb-1.2.1\n",
      "Note: you may need to restart the kernel to use updated packages.\n"
     ]
    }
   ],
   "source": [
    "#pip install pyusb"
   ]
  },
  {
   "cell_type": "code",
   "execution_count": 7,
   "metadata": {},
   "outputs": [
    {
     "name": "stdout",
     "output_type": "stream",
     "text": [
      "Collecting PIPython\n",
      "  Downloading PIPython-2.10.0.2-py3-none-any.whl (296 kB)\n",
      "\u001b[2K     \u001b[90m━━━━━━━━━━━━━━━━━━━━━━━━━━━━━━━━━━━━━━━\u001b[0m \u001b[32m297.0/297.0 kB\u001b[0m \u001b[31m5.5 MB/s\u001b[0m eta \u001b[36m0:00:00\u001b[0m00:01\u001b[0m\n",
      "\u001b[?25hRequirement already satisfied: pyusb in ./.venv/lib/python3.10/site-packages (from PIPython) (1.2.1)\n",
      "Requirement already satisfied: pyserial in ./.venv/lib/python3.10/site-packages (from PIPython) (3.5)\n",
      "Installing collected packages: PIPython\n",
      "Successfully installed PIPython-2.10.0.2\n",
      "Note: you may need to restart the kernel to use updated packages.\n"
     ]
    }
   ],
   "source": [
    "#pip install PIPython"
   ]
  },
  {
   "cell_type": "code",
   "execution_count": 130,
   "metadata": {},
   "outputs": [
    {
     "name": "stdout",
     "output_type": "stream",
     "text": [
      "['-1234.23361235', '3.1', '321325', '3', '3', '251', '2']\n"
     ]
    }
   ],
   "source": [
    "import re \n",
    "st = 'afdsa-1234.23361235awerqy3.1afdas e321325.t3rhfus3l.,251rewf2afds'\n",
    "result = re.findall(r\"[-+]?\\d*\\.\\d+|\\d+\", st)\n",
    "print (result)"
   ]
  },
  {
   "cell_type": "code",
   "execution_count": 117,
   "metadata": {},
   "outputs": [
    {
     "name": "stdout",
     "output_type": "stream",
     "text": [
      "['1']\n"
     ]
    }
   ],
   "source": [
    "import serial \n",
    "import time as t \n",
    "import re \n",
    "with serial.Serial('COM6',9600,timeout=1) as ser: \n",
    "    cmd= 'TARG '+str(30)+\"\\n\"\n",
    "    ser.write(cmd.encode())\n",
    "    cmd=\"MOT:COND?\\n\"\n",
    "    ser.write(cmd.encode())\n",
    "    start= t.time()\n",
    "    line = ser.readline()\n",
    "    line += ser.readline()\n",
    "    line += ser.readline()\n",
    "    end =t.time()\n",
    "    print(re.findall(r'\\d+', str(line)))\n"
   ]
  },
  {
   "cell_type": "code",
   "execution_count": 58,
   "metadata": {},
   "outputs": [
    {
     "name": "stdout",
     "output_type": "stream",
     "text": [
      "<class 'str'>\n"
     ]
    }
   ],
   "source": [
    "import serial.tools.list_ports as lport\n",
    "for cmport in lport.comports():\n",
    "    print(type(cmport.name))"
   ]
  },
  {
   "cell_type": "code",
   "execution_count": 56,
   "metadata": {},
   "outputs": [
    {
     "name": "stdout",
     "output_type": "stream",
     "text": [
      "bob\n",
      "john\n",
      "matthew\n",
      "mark\n",
      "luke\n",
      "paul\n",
      "['bob', 'john', 'matthew', 'mark', 'luke', 'paul']\n"
     ]
    }
   ],
   "source": [
    "b = [\"bob\",\"john\", \"matthew\",\"mark\",\"luke\",\"paul\"]\n",
    "c = []\n",
    "for nm in b:\n",
    "    c.append(nm)\n",
    "    print(nm)\n",
    "print(c)"
   ]
  },
  {
   "cell_type": "code",
   "execution_count": 75,
   "metadata": {},
   "outputs": [
    {
     "name": "stdout",
     "output_type": "stream",
     "text": [
      "grave disaster\n"
     ]
    }
   ],
   "source": [
    "print(ConnectionError('grave disaster'))"
   ]
  },
  {
   "cell_type": "code",
   "execution_count": 81,
   "metadata": {},
   "outputs": [
    {
     "data": {
      "text/plain": [
       "'AXIS 3'"
      ]
     },
     "execution_count": 81,
     "metadata": {},
     "output_type": "execute_result"
    }
   ],
   "source": [
    "stages = {'k1':1,'k2':2,'k3':3}\n",
    "'AXIS '+str(stages['k3'])"
   ]
  },
  {
   "cell_type": "code",
   "execution_count": 95,
   "metadata": {},
   "outputs": [
    {
     "name": "stdout",
     "output_type": "stream",
     "text": [
      "Serial<id=0x1bb5e7f1700, open=False>(port=None, baudrate=9600, bytesize=8, parity='N', stopbits=1, timeout=None, xonxoff=False, rtscts=False, dsrdtr=False)\n",
      "5\n",
      "jeramaih marrow\n"
     ]
    }
   ],
   "source": [
    "john = serial.Serial()\n",
    "def changes():\n",
    "    global john\n",
    "    john =5 \n",
    "    return 0 \n",
    "\n",
    "def otherchanges():\n",
    "    global john\n",
    "    john='jeramaih marrow'\n",
    "    return 0\n",
    "print(john)\n",
    "changes()\n",
    "print(john)\n",
    "otherchanges()\n",
    "print(john)\n"
   ]
  },
  {
   "cell_type": "code",
   "execution_count": 23,
   "metadata": {},
   "outputs": [
    {
     "name": "stderr",
     "output_type": "stream",
     "text": [
      "/tmp/ipykernel_7423/2622792229.py:19: MatplotlibDeprecationWarning: The tostring_rgb function was deprecated in Matplotlib 3.8 and will be removed two minor releases later. Use buffer_rgba instead.\n",
      "  data = np.frombuffer(fig.canvas.tostring_rgb(), dtype=np.uint8)\n"
     ]
    },
    {
     "ename": "ValueError",
     "evalue": "cannot reshape array of size 330000 into shape (220,500,4)",
     "output_type": "error",
     "traceback": [
      "\u001b[0;31m---------------------------------------------------------------------------\u001b[0m",
      "\u001b[0;31mValueError\u001b[0m                                Traceback (most recent call last)",
      "\u001b[1;32m/home/matthew/Desktop/GitHub/HFWM-Control/Initializeenvironment.ipynb Cell 26\u001b[0m line \u001b[0;36m2\n\u001b[1;32m     <a href='vscode-notebook-cell:/home/matthew/Desktop/GitHub/HFWM-Control/Initializeenvironment.ipynb#X34sZmlsZQ%3D%3D?line=17'>18</a>\u001b[0m \u001b[39m# Now we can save it to a numpy array.\u001b[39;00m\n\u001b[1;32m     <a href='vscode-notebook-cell:/home/matthew/Desktop/GitHub/HFWM-Control/Initializeenvironment.ipynb#X34sZmlsZQ%3D%3D?line=18'>19</a>\u001b[0m data \u001b[39m=\u001b[39m np\u001b[39m.\u001b[39mfrombuffer(fig\u001b[39m.\u001b[39mcanvas\u001b[39m.\u001b[39mtostring_rgb(), dtype\u001b[39m=\u001b[39mnp\u001b[39m.\u001b[39muint8)\n\u001b[0;32m---> <a href='vscode-notebook-cell:/home/matthew/Desktop/GitHub/HFWM-Control/Initializeenvironment.ipynb#X34sZmlsZQ%3D%3D?line=19'>20</a>\u001b[0m data \u001b[39m=\u001b[39m data\u001b[39m.\u001b[39;49mreshape(fig\u001b[39m.\u001b[39;49mcanvas\u001b[39m.\u001b[39;49mget_width_height()[::\u001b[39m-\u001b[39;49m\u001b[39m1\u001b[39;49m] \u001b[39m+\u001b[39;49m(\u001b[39m4\u001b[39;49m,))\n\u001b[1;32m     <a href='vscode-notebook-cell:/home/matthew/Desktop/GitHub/HFWM-Control/Initializeenvironment.ipynb#X34sZmlsZQ%3D%3D?line=20'>21</a>\u001b[0m \u001b[39mprint\u001b[39m(fig\u001b[39m.\u001b[39mcanvas\u001b[39m.\u001b[39mget_width_height()\u001b[39m+\u001b[39m (\u001b[39m3\u001b[39m,))\n\u001b[1;32m     <a href='vscode-notebook-cell:/home/matthew/Desktop/GitHub/HFWM-Control/Initializeenvironment.ipynb#X34sZmlsZQ%3D%3D?line=21'>22</a>\u001b[0m width,height,depth \u001b[39m=\u001b[39mnp\u001b[39m.\u001b[39mshape(data)\n",
      "\u001b[0;31mValueError\u001b[0m: cannot reshape array of size 330000 into shape (220,500,4)"
     ]
    },
    {
     "data": {
      "image/png": "[encoded data removed]",
      "text/plain": [
       "<Figure size 500x220 with 1 Axes>"
      ]
     },
     "metadata": {},
     "output_type": "display_data"
    }
   ],
   "source": [
    "import matplotlib.pyplot as plt\n",
    "import numpy as np\n",
    "x= np.linspace(-10,10)\n",
    "y= np.linspace(-10,10)\n",
    "X,Y = np.meshgrid(x,y)\n",
    "Z = X+Y\n",
    "# Make a random plot...\n",
    "fig,ax = plt.subplots()\n",
    "\n",
    "ax.imshow(Z,extent=[-10,10,-10,10])\n",
    "fig.set_dpi(100)\n",
    "fig.set_figwidth(5.0)\n",
    "fig.set_figheight(2.2)\n",
    "# If we haven't already shown or saved the plot, then we need to\n",
    "# draw the figure first...\n",
    "fig.canvas.draw()\n",
    "\n",
    "# Now we can save it to a numpy array.\n",
    "data = np.frombuffer(fig.canvas.tostring_rgb(), dtype=np.uint8)\n",
    "\n",
    "print(fig.canvas.get_width_height()+ (3,))\n",
    "width,height,depth =np.shape(data)\n",
    "print(depth)\n"
   ]
  },
  {
   "cell_type": "code",
   "execution_count": 18,
   "metadata": {},
   "outputs": [
    {
     "data": {
      "text/plain": [
       "330000"
      ]
     },
     "execution_count": 18,
     "metadata": {},
     "output_type": "execute_result"
    }
   ],
   "source": [
    "500*220*3"
   ]
  },
  {
   "cell_type": "code",
   "execution_count": 28,
   "metadata": {},
   "outputs": [],
   "source": [
    "bob = np.array([[[1,2,3],[4,5,6]],[[7,8,9],[10,11,12]]])"
   ]
  },
  {
   "cell_type": "code",
   "execution_count": 27,
   "metadata": {},
   "outputs": [
    {
     "name": "stdout",
     "output_type": "stream",
     "text": [
      "0.01 minutes complete, 0.65 minutes remaining\n",
      "0.01 minutes complete, 0.51 minutes remaining\n",
      "0.02 minutes complete, 0.47 minutes remaining\n",
      "0.02 minutes complete, 0.45 minutes remaining\n",
      "0.03 minutes complete, 0.44 minutes remaining\n",
      "0.03 minutes complete, 0.43 minutes remaining\n",
      "0.04 minutes complete, 0.42 minutes remaining\n",
      "0.04 minutes complete, 0.41 minutes remaining\n",
      "0.05 minutes complete, 0.40 minutes remaining\n",
      "0.05 minutes complete, 0.39 minutes remaining\n",
      "0.06 minutes complete, 0.39 minutes remaining\n",
      "0.06 minutes complete, 0.38 minutes remaining\n",
      "0.07 minutes complete, 0.38 minutes remaining\n",
      "0.07 minutes complete, 0.37 minutes remaining\n",
      "0.08 minutes complete, 0.37 minutes remaining\n",
      "0.08 minutes complete, 0.36 minutes remaining\n",
      "0.09 minutes complete, 0.35 minutes remaining\n",
      "0.10 minutes complete, 0.34 minutes remaining\n",
      "0.10 minutes complete, 0.34 minutes remaining\n",
      "0.11 minutes complete, 0.33 minutes remaining\n",
      "0.11 minutes complete, 0.33 minutes remaining\n",
      "0.12 minutes complete, 0.32 minutes remaining\n",
      "0.12 minutes complete, 0.32 minutes remaining\n",
      "0.13 minutes complete, 0.31 minutes remaining\n",
      "0.14 minutes complete, 0.30 minutes remaining\n",
      "0.14 minutes complete, 0.30 minutes remaining\n",
      "0.15 minutes complete, 0.29 minutes remaining\n",
      "0.15 minutes complete, 0.29 minutes remaining\n",
      "0.16 minutes complete, 0.28 minutes remaining\n",
      "0.16 minutes complete, 0.28 minutes remaining\n",
      "0.17 minutes complete, 0.27 minutes remaining\n",
      "0.17 minutes complete, 0.27 minutes remaining\n",
      "0.18 minutes complete, 0.26 minutes remaining\n",
      "0.18 minutes complete, 0.25 minutes remaining\n",
      "0.19 minutes complete, 0.25 minutes remaining\n",
      "0.19 minutes complete, 0.24 minutes remaining\n",
      "0.20 minutes complete, 0.24 minutes remaining\n",
      "0.20 minutes complete, 0.23 minutes remaining\n",
      "0.21 minutes complete, 0.23 minutes remaining\n",
      "0.21 minutes complete, 0.22 minutes remaining\n",
      "0.22 minutes complete, 0.22 minutes remaining\n",
      "0.23 minutes complete, 0.21 minutes remaining\n",
      "0.23 minutes complete, 0.21 minutes remaining\n",
      "0.24 minutes complete, 0.20 minutes remaining\n",
      "0.24 minutes complete, 0.20 minutes remaining\n",
      "0.25 minutes complete, 0.19 minutes remaining\n",
      "0.25 minutes complete, 0.18 minutes remaining\n",
      "0.26 minutes complete, 0.18 minutes remaining\n",
      "0.27 minutes complete, 0.17 minutes remaining\n",
      "0.27 minutes complete, 0.17 minutes remaining\n",
      "0.28 minutes complete, 0.16 minutes remaining\n",
      "0.28 minutes complete, 0.16 minutes remaining\n",
      "0.29 minutes complete, 0.15 minutes remaining\n",
      "0.29 minutes complete, 0.15 minutes remaining\n",
      "0.30 minutes complete, 0.14 minutes remaining\n",
      "0.30 minutes complete, 0.14 minutes remaining\n",
      "0.31 minutes complete, 0.13 minutes remaining\n",
      "0.31 minutes complete, 0.12 minutes remaining\n",
      "0.32 minutes complete, 0.12 minutes remaining\n",
      "0.32 minutes complete, 0.11 minutes remaining\n",
      "0.33 minutes complete, 0.11 minutes remaining\n",
      "0.33 minutes complete, 0.10 minutes remaining\n",
      "0.34 minutes complete, 0.10 minutes remaining\n",
      "0.34 minutes complete, 0.09 minutes remaining\n",
      "0.35 minutes complete, 0.08 minutes remaining\n",
      "0.36 minutes complete, 0.08 minutes remaining\n",
      "0.36 minutes complete, 0.07 minutes remaining\n",
      "0.37 minutes complete, 0.07 minutes remaining\n",
      "0.37 minutes complete, 0.06 minutes remaining\n",
      "0.38 minutes complete, 0.06 minutes remaining\n",
      "0.38 minutes complete, 0.05 minutes remaining\n",
      "0.39 minutes complete, 0.05 minutes remaining\n",
      "0.40 minutes complete, 0.04 minutes remaining\n",
      "0.40 minutes complete, 0.04 minutes remaining\n",
      "0.41 minutes complete, 0.03 minutes remaining\n",
      "0.41 minutes complete, 0.03 minutes remaining\n",
      "0.42 minutes complete, 0.02 minutes remaining\n",
      "0.42 minutes complete, 0.02 minutes remaining\n",
      "0.43 minutes complete, 0.01 minutes remaining\n",
      "0.43 minutes complete, 0.01 minutes remaining\n"
     ]
    }
   ],
   "source": [
    "import time as t \n",
    "N =10\n",
    "M=26\n",
    "start = t.time()\n",
    "runtime=0\n",
    "for j in range(N):\n",
    "    for i in range(M):\n",
    "        prevtime=runtime\n",
    "        t.sleep(.1)\n",
    "        runtime = t.time()\n",
    "        if(i%3==2):\n",
    "            timepassed = (runtime-start)/60\n",
    "            timeleft =(runtime-start)/(j*M+i)*(N*M-j*M-i)/60 \n",
    "            txt3 = \"{timepassed:.2f} minutes complete, {timeleft:.2f} minutes remaining\".format(timepassed=timepassed,timeleft=timeleft) \n",
    "            print(txt3)\n",
    "    \n"
   ]
  },
  {
   "cell_type": "code",
   "execution_count": 11,
   "metadata": {},
   "outputs": [
    {
     "name": "stdout",
     "output_type": "stream",
     "text": [
      "My name is John, I'm 36\n"
     ]
    }
   ],
   "source": [
    "txt1 = \"My name is {fname}, I'm {age}\".format(fname = \"John\", age = 36)\n",
    "print(txt1)"
   ]
  },
  {
   "cell_type": "code",
   "execution_count": 15,
   "metadata": {},
   "outputs": [],
   "source": [
    "txt3 = \"Since Start {delay}, minutes, {rem} minutes remaining\".format(delay=(runtime-start)/60,rem=(runtime-start)/i*(N-i)/60) "
   ]
  },
  {
   "cell_type": "markdown",
   "metadata": {},
   "source": []
  },
  {
   "cell_type": "code",
   "execution_count": 31,
   "metadata": {},
   "outputs": [],
   "source": [
    "import dearpygui.dearpygui as dpg \n",
    "dpg.show_font_manager()"
   ]
  },
  {
   "cell_type": "code",
   "execution_count": 77,
   "metadata": {},
   "outputs": [
    {
     "name": "stdout",
     "output_type": "stream",
     "text": [
      "Requirement already satisfied: cx_Freeze in c:\\users\\mattl\\anaconda3\\envs\\guiwrapper\\lib\\site-packages (6.15.10)\n",
      "Requirement already satisfied: setuptools<69,>=62.6 in c:\\users\\mattl\\anaconda3\\envs\\guiwrapper\\lib\\site-packages (from cx_Freeze) (68.0.0)\n",
      "Requirement already satisfied: wheel>=0.38.4 in c:\\users\\mattl\\anaconda3\\envs\\guiwrapper\\lib\\site-packages (from cx_Freeze) (0.41.2)\n",
      "Requirement already satisfied: cx-Logging>=3.1 in c:\\users\\mattl\\anaconda3\\envs\\guiwrapper\\lib\\site-packages (from cx_Freeze) (3.1.0)\n",
      "Requirement already satisfied: lief>=0.12.0 in c:\\users\\mattl\\anaconda3\\envs\\guiwrapper\\lib\\site-packages (from cx_Freeze) (0.13.2)\n",
      "Note: you may need to restart the kernel to use updated packages.\n"
     ]
    }
   ],
   "source": [
    "#pip install cx_Freeze"
   ]
  },
  {
   "cell_type": "code",
   "execution_count": 98,
   "metadata": {},
   "outputs": [],
   "source": [
    "def handlelog(start,end,num,unit):\n",
    "    \"\"\"handle the generation of appropriate log space based on given parameter\n",
    "    Args: \n",
    "        start: the initial value for the space (if negative a sign flip is applied making a space porportional to max value) \n",
    "        end: the final value for the space (if negative a sign flip is applied )\n",
    "        num: the number of total spaces  \n",
    "    Returns:\n",
    "        logspace bound by start and end with num points \n",
    "    \"\"\"\n",
    "    unitmin = { 'fs':10,\n",
    "                'ps':.01,\n",
    "                'um':3,\n",
    "                'mm':.003,\n",
    "                'ct':430}\n",
    "    boundary = np.log10(unitmin[unit])\n",
    "    if(start==end):\n",
    "        combinedspace=np.ones(num)*start\n",
    "    elif((start<0)^(end<0)):\n",
    "        print('partial negative')\n",
    "        spacelength = np.abs(end-start)\n",
    "        startsteps=  int(np.floor(num*np.abs(start)/spacelength))\n",
    "        endsteps= int(np.floor(num*np.abs(end)/spacelength))\n",
    "        if((start<0)&(end!=0)): \n",
    "            print(\"regular broken space\")#\n",
    "            startspace= -np.logspace(np.log10(np.abs(start)),boundary,startsteps)\n",
    "            endspace = np.logspace(boundary,np.log10(np.abs(end)),endsteps)\n",
    "            combinedspace = np.append(startspace,0)\n",
    "            combinedspace = np.append(combinedspace,endspace)\n",
    "        elif((end<0)&(start!=0)):\n",
    "            print(\"reversed broken space\")#\n",
    "            startspace= np.logspace(np.log10(np.abs(start)),boundary,startsteps)\n",
    "            endspace = -np.logspace(boundary,np.log10(np.abs(end)),endsteps)\n",
    "            combinedspace = np.append(startspace,0)\n",
    "            combinedspace = np.append(combinedspace,endspace)\n",
    "        elif(start == 0 ):\n",
    "            print('negative zero start space')\n",
    "            combinedspace = -np.logspace(boundary,np.log10(np.abs(end)),num)\n",
    "            combinedspace = np.append(0,combinedspace)\n",
    "        elif(end   == 0 ):\n",
    "            print('negative zero end space')\n",
    "            combinedspace = -np.logspace(np.log10(np.abs(start)),boundary,num)\n",
    "            combinedspace = np.append(combinedspace,0)\n",
    "    elif(start==0):\n",
    "        print('positive zero start space')\n",
    "        combinedspace = np.logspace(boundary,np.log10(np.abs(end)),num-1)\n",
    "        combinedspace = np.append(0,combinedspace)\n",
    "    elif(end==0):\n",
    "        print('positive zero end space')\n",
    "        combinedspace= np.logspace(np.log10(np.abs(start)),boundary,num-1)\n",
    "        combinedspace= np.append(combinedspace,0)\n",
    "    elif((start<0)&(end<0)):\n",
    "        print(\"negative consecutive space\")\n",
    "        combinedspace= -np.logspace(np.log10(np.abs(start)),np.log10(np.abs(end)),num)\n",
    "    elif((start>0)&(end>0)):\n",
    "        print(\"positive consecutive space\")\n",
    "        combinedspace= np.logspace(np.log10(np.abs(start)),np.log10(np.abs(end)),num)\n",
    "    return combinedspace"
   ]
  },
  {
   "cell_type": "code",
   "execution_count": 106,
   "metadata": {},
   "outputs": [
    {
     "name": "stdout",
     "output_type": "stream",
     "text": [
      "positive consecutive space\n"
     ]
    },
    {
     "data": {
      "text/plain": [
       "130"
      ]
     },
     "execution_count": 106,
     "metadata": {},
     "output_type": "execute_result"
    },
    {
     "data": {
      "image/png": "[encoded data removed]",
      "text/plain": [
       "<Figure size 640x480 with 1 Axes>"
      ]
     },
     "metadata": {},
     "output_type": "display_data"
    }
   ],
   "source": [
    "import numpy as np \n",
    "import matplotlib.pyplot as plt\n",
    "\n",
    "x = handlelog(50,20,130,'fs')\n",
    "y = np.exp(-x/50)\n",
    "plt.plot(x,y)\n",
    "len(x)"
   ]
  },
  {
   "cell_type": "code",
   "execution_count": 104,
   "metadata": {},
   "outputs": [
    {
     "data": {
      "text/plain": [
       "array([50.        , 49.37524927, 48.75830481, 48.14906908, 47.54744576,\n",
       "       46.95333973, 46.36665707, 45.78730501, 45.21519197, 44.65022749,\n",
       "       44.09232224, 43.54138803, 42.99733776, 42.46008539, 41.92954601,\n",
       "       41.40563572, 40.8882717 , 40.37737215, 39.87285629, 39.37464437,\n",
       "       38.88265762, 38.39681824, 37.91704944, 37.44327535, 36.97542108,\n",
       "       36.51341266, 36.05717703, 35.60664208, 35.16173657, 34.72239016,\n",
       "       34.28853339, 33.86009766, 33.43701525, 33.01921926, 32.60664363,\n",
       "       32.19922314, 31.79689338, 31.39959073, 31.00725239, 30.61981632,\n",
       "       30.23722127, 29.85940675, 29.48631302, 29.11788111, 28.75405276,\n",
       "       28.39477046, 28.03997739, 27.68961746, 27.34363529, 27.00197616,\n",
       "       26.66458608, 26.33141169, 26.00240031, 25.67749994, 25.35665921,\n",
       "       25.03982738, 24.72695437, 24.41799072, 24.11288757, 23.81159668,\n",
       "       23.51407044, 23.22026178, 22.93012427, 22.64361204, 22.36067977,\n",
       "       22.08128276, 21.80537681, 21.5329183 , 21.26386418, 20.99817188,\n",
       "       20.73579942, 20.4767053 , 20.22084857, 19.96818877, 19.71868596,\n",
       "       19.4723007 , 19.22899402, 18.98872745, 18.75146303, 18.51716322,\n",
       "       18.285791  , 18.05730977, 17.83168343, 17.60887628, 17.38885312,\n",
       "       17.17157914, 16.95702001, 16.7451418 , 16.53591101, 16.32929456,\n",
       "       16.12525978, 15.92377443, 15.72480664, 15.52832495, 15.3342983 ,\n",
       "       15.14269602, 14.95348781, 14.76664376, 14.58213433, 14.39993035,\n",
       "       14.22000301, 14.04232387, 13.86686483, 13.69359815, 13.52249644,\n",
       "       13.35353265, 13.18668007, 13.02191231, 12.85920332, 12.69852739,\n",
       "       12.5398591 , 12.38317338, 12.22844545, 12.07565085, 11.92476541,\n",
       "       11.77576529, 11.62862694, 11.48332707, 11.33984273, 11.19815123,\n",
       "       11.05823017, 10.92005742, 10.78361115, 10.64886977, 10.51581198,\n",
       "       10.38441676, 10.25466332, 10.12653115, 10.        ,  0.        ])"
      ]
     },
     "execution_count": 104,
     "metadata": {},
     "output_type": "execute_result"
    }
   ],
   "source": [
    "x"
   ]
  },
  {
   "cell_type": "code",
   "execution_count": 13,
   "metadata": {},
   "outputs": [
    {
     "data": {
      "text/plain": [
       "array([100.        ,  91.0298178 ,  82.86427729,  75.43120063,\n",
       "        68.6648845 ,  62.50551925,  56.89866029,  51.79474679,\n",
       "        47.14866363,  42.9193426 ,  39.06939937,  35.56480306,\n",
       "        32.37457543,  29.47051703,  26.82695795,  24.42053095,\n",
       "        22.22996483,  20.23589648,  18.42069969,  16.76832937,\n",
       "        15.26417967,  13.89495494,  12.64855217,  11.51395399,\n",
       "        10.48113134,   9.54095476,   8.68511374,   7.90604321,\n",
       "         7.19685673,   6.55128557,   5.96362332,   5.42867544,\n",
       "         4.94171336,   4.49843267,   4.09491506,   3.72759372,\n",
       "         3.39322177,   3.0888436 ,   2.8117687 ,   2.55954792,\n",
       "         2.32995181,   2.12095089,   1.93069773,   1.75751062,\n",
       "         1.59985872,   1.45634848,   1.32571137,   1.20679264,\n",
       "         1.09854114,   1.        ])"
      ]
     },
     "execution_count": 13,
     "metadata": {},
     "output_type": "execute_result"
    }
   ],
   "source": [
    "x"
   ]
  },
  {
   "cell_type": "code",
   "execution_count": null,
   "metadata": {},
   "outputs": [],
   "source": []
  }
 ],
 "metadata": {
  "kernelspec": {
   "display_name": ".venv",
   "language": "python",
   "name": "python3"
  },
  "language_info": {
   "codemirror_mode": {
    "name": "ipython",
    "version": 3
   },
   "file_extension": ".py",
   "mimetype": "text/x-python",
   "name": "python",
   "nbconvert_exporter": "python",
   "pygments_lexer": "ipython3",
   "version": "3.8.18"
  }
 },
 "nbformat": 4,
 "nbformat_minor": 2
}
